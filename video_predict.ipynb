{
 "nbformat": 4,
 "nbformat_minor": 2,
 "metadata": {
  "language_info": {
   "name": "python",
   "codemirror_mode": {
    "name": "ipython",
    "version": 3
   },
   "version": "3.7.4"
  },
  "orig_nbformat": 2,
  "file_extension": ".py",
  "mimetype": "text/x-python",
  "name": "python",
  "npconvert_exporter": "python",
  "pygments_lexer": "ipython3",
  "version": 3
 },
 "cells": [
  {
   "cell_type": "code",
   "execution_count": 4,
   "metadata": {},
   "outputs": [
    {
     "ename": "ModuleNotFoundError",
     "evalue": "No module named 'model_ML'",
     "output_type": "error",
     "traceback": [
      "\u001b[1;31m---------------------------------------------------------------------------\u001b[0m",
      "\u001b[1;31mModuleNotFoundError\u001b[0m                       Traceback (most recent call last)",
      "\u001b[1;32m<ipython-input-4-9189235518a6>\u001b[0m in \u001b[0;36m<module>\u001b[1;34m\u001b[0m\n\u001b[0;32m      3\u001b[0m \u001b[1;32mimport\u001b[0m \u001b[0mos\u001b[0m\u001b[1;33m\u001b[0m\u001b[1;33m\u001b[0m\u001b[0m\n\u001b[0;32m      4\u001b[0m \u001b[1;32mimport\u001b[0m \u001b[0mcv2\u001b[0m\u001b[1;33m\u001b[0m\u001b[1;33m\u001b[0m\u001b[0m\n\u001b[1;32m----> 5\u001b[1;33m \u001b[1;32mfrom\u001b[0m \u001b[0mmodel_ML\u001b[0m \u001b[1;32mimport\u001b[0m \u001b[0mcreate_model_pretrain\u001b[0m\u001b[1;33m\u001b[0m\u001b[1;33m\u001b[0m\u001b[0m\n\u001b[0m\u001b[0;32m      6\u001b[0m \u001b[1;31m# import matplotlib.pyplot as plt\u001b[0m\u001b[1;33m\u001b[0m\u001b[1;33m\u001b[0m\u001b[1;33m\u001b[0m\u001b[0m\n\u001b[0;32m      7\u001b[0m \u001b[1;33m\u001b[0m\u001b[0m\n",
      "\u001b[1;31mModuleNotFoundError\u001b[0m: No module named 'model_ML'"
     ]
    }
   ],
   "source": [
    "# from data_helper import readfile_to_dict\n",
    "import numpy as np\n",
    "import os\n",
    "import cv2\n",
    "from model_ML import create_model_pretrain\n",
    "# import matplotlib.pyplot as plt\n",
    "\n",
    "dim = (224,224)\n",
    "n_sequence = 8\n",
    "n_channels = 3\n",
    "n_output = 5\n",
    "batch_size = 1\n",
    "\n",
    "X = np.empty((batch_size, n_sequence, *dim, n_channels)) # X : (n_samples, *dim, n_channels)\n",
    "Y = np.empty((batch_size), dtype=int)\n",
    "\n",
    "\n",
    "## Predict\n",
    "weights_path = 'BUPT-augment-RGBdiff-120-0.90-0.91.hdf5'\n",
    "# weights_path = 'KARD-aug-RGBdif-40-0.92-0.98.hdf5'\n",
    "model = create_model_pretrain(dim, n_sequence, n_channels, n_output, 'MobileNetV2')\n",
    "model.load_weights(weights_path)\n",
    "\n",
    "\n",
    "\n",
    "def calculateRGBdiff(sequence_img):\n",
    "    'keep first frame as rgb data, other is use RGBdiff for temporal data'\n",
    "    length = len(sequence_img)\n",
    "    sh = sequence_img.shape\n",
    "    new_sequence = np.zeros((sh[0],sh[1],sh[2],sh[3])) # (frame, w,h,3)\n",
    "\n",
    "    # find RGBdiff frame 1 to last frame\n",
    "    for i in range(length-1,0,-1): # count down\n",
    "        new_sequence[i] = cv2.subtract(sequence_img[i],sequence_img[i-1])\n",
    "    \n",
    "    new_sequence[0] = sequence_img[0] # first frame as rgb data\n",
    "\n",
    "    return new_sequence\n",
    "\n"
   ]
  },
  {
   "cell_type": "code",
   "execution_count": 5,
   "metadata": {},
   "outputs": [],
   "source": [
    "def get_sampling_frame( len_frames):   \n",
    "    '''\n",
    "    Sampling n_sequence frame from video file\n",
    "    Output: n_sequence index from sampling algorithm \n",
    "    '''     \n",
    "    \n",
    "    random_sample_range = 1\n",
    "    # Randomly choose sample interval and start frame\n",
    "    sample_interval = 3#np.random.randint(1, random_sample_range + 1)\n",
    "    # print('sample_interval:',sample_interval)\n",
    "    print(len_frames - sample_interval * n_sequence + 1, len_frames )\n",
    "    start_i = np.random.randint(0, len_frames - sample_interval * n_sequence + 1)\n",
    "   \n",
    "\n",
    "    # sample_interval = len_frames//n_sequence\n",
    "    # start_i = 0\n",
    "    \n",
    "    # Extract frames as tensors\n",
    "    index_sampling = []\n",
    "    end_i = sample_interval * n_sequence + start_i\n",
    "    for i in range(start_i, end_i, sample_interval):\n",
    "        if len(index_sampling) < n_sequence:\n",
    "            index_sampling.append(i)\n",
    "    \n",
    "    return index_sampling\n"
   ]
  },
  {
   "cell_type": "code",
   "execution_count": 6,
   "metadata": {},
   "outputs": [
    {
     "name": "stdout",
     "output_type": "stream",
     "text": "10674\n"
    },
    {
     "ename": "NameError",
     "evalue": "name 'n_sequence' is not defined",
     "output_type": "error",
     "traceback": [
      "\u001b[1;31m---------------------------------------------------------------------------\u001b[0m",
      "\u001b[1;31mNameError\u001b[0m                                 Traceback (most recent call last)",
      "\u001b[1;32m<ipython-input-6-c188655cd703>\u001b[0m in \u001b[0;36m<module>\u001b[1;34m\u001b[0m\n\u001b[0;32m     10\u001b[0m \u001b[0mlength_file\u001b[0m \u001b[1;33m=\u001b[0m \u001b[0mint\u001b[0m\u001b[1;33m(\u001b[0m\u001b[0mcap\u001b[0m\u001b[1;33m.\u001b[0m\u001b[0mget\u001b[0m\u001b[1;33m(\u001b[0m\u001b[0mcv2\u001b[0m\u001b[1;33m.\u001b[0m\u001b[0mCAP_PROP_FRAME_COUNT\u001b[0m\u001b[1;33m)\u001b[0m\u001b[1;33m)\u001b[0m \u001b[1;31m# get length of frames,\u001b[0m\u001b[1;33m\u001b[0m\u001b[1;33m\u001b[0m\u001b[0m\n\u001b[0;32m     11\u001b[0m \u001b[0mprint\u001b[0m\u001b[1;33m(\u001b[0m\u001b[0mlength_file\u001b[0m\u001b[1;33m)\u001b[0m\u001b[1;33m\u001b[0m\u001b[1;33m\u001b[0m\u001b[0m\n\u001b[1;32m---> 12\u001b[1;33m \u001b[0mindex_sampling\u001b[0m \u001b[1;33m=\u001b[0m \u001b[0mget_sampling_frame\u001b[0m\u001b[1;33m(\u001b[0m\u001b[0mlength_file\u001b[0m\u001b[1;33m)\u001b[0m \u001b[1;31m# get index to sampling\u001b[0m\u001b[1;33m\u001b[0m\u001b[1;33m\u001b[0m\u001b[0m\n\u001b[0m\u001b[0;32m     13\u001b[0m \u001b[1;32mfor\u001b[0m \u001b[0mj\u001b[0m\u001b[1;33m,\u001b[0m \u001b[0mn_pic\u001b[0m \u001b[1;32min\u001b[0m \u001b[0menumerate\u001b[0m\u001b[1;33m(\u001b[0m\u001b[0mindex_sampling\u001b[0m\u001b[1;33m)\u001b[0m\u001b[1;33m:\u001b[0m\u001b[1;33m\u001b[0m\u001b[1;33m\u001b[0m\u001b[0m\n\u001b[0;32m     14\u001b[0m     \u001b[0mprint\u001b[0m\u001b[1;33m(\u001b[0m\u001b[0mj\u001b[0m\u001b[1;33m,\u001b[0m \u001b[0mn_pic\u001b[0m\u001b[1;33m)\u001b[0m\u001b[1;33m\u001b[0m\u001b[1;33m\u001b[0m\u001b[0m\n",
      "\u001b[1;32m<ipython-input-5-f313df973a32>\u001b[0m in \u001b[0;36mget_sampling_frame\u001b[1;34m(len_frames)\u001b[0m\n\u001b[0;32m      9\u001b[0m     \u001b[0msample_interval\u001b[0m \u001b[1;33m=\u001b[0m \u001b[1;36m3\u001b[0m\u001b[1;31m#np.random.randint(1, random_sample_range + 1)\u001b[0m\u001b[1;33m\u001b[0m\u001b[1;33m\u001b[0m\u001b[0m\n\u001b[0;32m     10\u001b[0m     \u001b[1;31m# print('sample_interval:',sample_interval)\u001b[0m\u001b[1;33m\u001b[0m\u001b[1;33m\u001b[0m\u001b[1;33m\u001b[0m\u001b[0m\n\u001b[1;32m---> 11\u001b[1;33m     \u001b[0mprint\u001b[0m\u001b[1;33m(\u001b[0m\u001b[0mlen_frames\u001b[0m \u001b[1;33m-\u001b[0m \u001b[0msample_interval\u001b[0m \u001b[1;33m*\u001b[0m \u001b[0mn_sequence\u001b[0m \u001b[1;33m+\u001b[0m \u001b[1;36m1\u001b[0m\u001b[1;33m,\u001b[0m \u001b[0mlen_frames\u001b[0m \u001b[1;33m)\u001b[0m\u001b[1;33m\u001b[0m\u001b[1;33m\u001b[0m\u001b[0m\n\u001b[0m\u001b[0;32m     12\u001b[0m     \u001b[0mstart_i\u001b[0m \u001b[1;33m=\u001b[0m \u001b[0mnp\u001b[0m\u001b[1;33m.\u001b[0m\u001b[0mrandom\u001b[0m\u001b[1;33m.\u001b[0m\u001b[0mrandint\u001b[0m\u001b[1;33m(\u001b[0m\u001b[1;36m0\u001b[0m\u001b[1;33m,\u001b[0m \u001b[0mlen_frames\u001b[0m \u001b[1;33m-\u001b[0m \u001b[0msample_interval\u001b[0m \u001b[1;33m*\u001b[0m \u001b[0mn_sequence\u001b[0m \u001b[1;33m+\u001b[0m \u001b[1;36m1\u001b[0m\u001b[1;33m)\u001b[0m\u001b[1;33m\u001b[0m\u001b[1;33m\u001b[0m\u001b[0m\n\u001b[0;32m     13\u001b[0m \u001b[1;33m\u001b[0m\u001b[0m\n",
      "\u001b[1;31mNameError\u001b[0m: name 'n_sequence' is not defined"
     ]
    }
   ],
   "source": [
    "sub_folder = 'original'\n",
    "action = 'run'\n",
    "base_path = 'F:\\\\Master Project\\\\'\n",
    "# base_path = 'D:\\\\Peach\\\\'\n",
    "# path_file = base_path+'Dataset\\\\sit_stand\\\\'+action+'\\\\'+action+'03_04.mp4'\n",
    "# path_file = base_path+'Dataset\\\\KARD-split\\\\'+action+'\\\\'+action+'_s09_e03.mp4'\n",
    "path_file = 'F:\\\\Master Project\\\\Dataset\\\\BUPT-dataset\\\\RGBdataset\\\\'+sub_folder+'\\\\'+action+'\\\\'+action+'00_01.mp4'\n",
    "# path_file = 'F:\\\\Master Project\\\\Dataset\\\\BasketBall-RGB\\\\'+action+'\\\\'+action+'00.mp4'\n",
    "cap = cv2.VideoCapture(path_file)\n",
    "length_file = int(cap.get(cv2.CAP_PROP_FRAME_COUNT)) # get length of frames,\n",
    "print(length_file)\n",
    "index_sampling = get_sampling_frame(length_file) # get index to sampling         \n",
    "for j, n_pic in enumerate(index_sampling):\n",
    "    print(j, n_pic)\n",
    "\n",
    "    cap.set(cv2.CAP_PROP_POS_FRAMES, n_pic)\n",
    "    ret, frame = cap.read()\n",
    "    new_image = cv2.resize(frame, dim)\n",
    "    new_image = new_image/255.0                \n",
    "    X[0,j,:,:,:] = new_image\n",
    "    \n",
    "    # cv2.imshow('Frame',frame)\n",
    "    # cv2.waitKey(500)\n",
    "\n",
    "cap.release()\n",
    "print(X.shape)\n",
    "\n",
    "X[0,] = calculateRGBdiff(X[0,])\n",
    "\n",
    "for i in range(n_sequence):    \n",
    "    cv2.imshow('Frame',X[0,i])\n",
    "    cv2.waitKey(500)\n",
    "result = model.predict(X)\n",
    "print(np.around(result,3))\n"
   ]
  }
 ]
}