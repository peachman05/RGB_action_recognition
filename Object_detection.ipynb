{
 "cells": [
  {
   "cell_type": "code",
   "execution_count": 2,
   "metadata": {},
   "outputs": [
    {
     "data": {
      "image/png": "[encoded data removed]",
      "text/plain": [
       "<Figure size 432x288 with 16 Axes>"
      ]
     },
     "metadata": {
      "needs_background": "light"
     },
     "output_type": "display_data"
    }
   ],
   "source": [
    "import os\n",
    "import numpy as np\n",
    "from keras.datasets import mnist\n",
    "\n",
    "# load data and reshape the Tensors\n",
    "(X_train, y_train), (X_test, y_test) = mnist.load_data()\n",
    "\n",
    "X_train = X_train.astype(np.float32).reshape((X_train.shape[0],28,28)) / 255.0\n",
    "X_test  = X_test.astype(np.float32).reshape((X_test.shape[0],28,28)) / 255.0\n",
    "\n",
    "# convert class vectors to binary class matrices\n",
    "from keras.utils import np_utils\n",
    "Y_train = np_utils.to_categorical(y_train, 10)\n",
    "Y_test = np_utils.to_categorical(y_test, 10)\n",
    "\n",
    "import matplotlib.pyplot as plt\n",
    "for i in range(16):\n",
    "  plt.subplot(4,4,i+1)\n",
    "#   plt.axis('off')\n",
    "  plt.imshow(X_train[i].reshape((28,28)))\n",
    "plt.show()"
   ]
  },
  {
   "cell_type": "code",
   "execution_count": 5,
   "metadata": {},
   "outputs": [
    {
     "name": "stdout",
     "output_type": "stream",
     "text": [
      "Model: \"sequential_2\"\n",
      "_________________________________________________________________\n",
      "Layer (type)                 Output Shape              Param #   \n",
      "=================================================================\n",
      "conv2d_4 (Conv2D)            (None, 28, 28, 8)         80        \n",
      "_________________________________________________________________\n",
      "batch_normalization_4 (Batch (None, 28, 28, 8)         32        \n",
      "_________________________________________________________________\n",
      "activation_4 (Activation)    (None, 28, 28, 8)         0         \n",
      "_________________________________________________________________\n",
      "conv2d_5 (Conv2D)            (None, 14, 14, 8)         584       \n",
      "_________________________________________________________________\n",
      "batch_normalization_5 (Batch (None, 14, 14, 8)         32        \n",
      "_________________________________________________________________\n",
      "activation_5 (Activation)    (None, 14, 14, 8)         0         \n",
      "_________________________________________________________________\n",
      "conv2d_6 (Conv2D)            (None, 7, 7, 8)           584       \n",
      "_________________________________________________________________\n",
      "batch_normalization_6 (Batch (None, 7, 7, 8)           32        \n",
      "_________________________________________________________________\n",
      "activation_6 (Activation)    (None, 7, 7, 8)           0         \n",
      "_________________________________________________________________\n",
      "flatten_2 (Flatten)          (None, 392)               0         \n",
      "_________________________________________________________________\n",
      "dense_1 (Dense)              (None, 10)                3930      \n",
      "=================================================================\n",
      "Total params: 5,274\n",
      "Trainable params: 5,226\n",
      "Non-trainable params: 48\n",
      "_________________________________________________________________\n",
      "WARNING:tensorflow:From f:\\master project\\environment\\action_reg\\lib\\site-packages\\keras\\backend\\tensorflow_backend.py:422: The name tf.global_variables is deprecated. Please use tf.compat.v1.global_variables instead.\n",
      "\n",
      "Train on 60000 samples, validate on 10000 samples\n",
      "Epoch 1/5\n",
      "60000/60000 [==============================] - 53s 887us/step - loss: 0.2526 - accuracy: 0.9276 - val_loss: 0.0906 - val_accuracy: 0.9719\n",
      "Epoch 2/5\n",
      "60000/60000 [==============================] - 21s 349us/step - loss: 0.0825 - accuracy: 0.9752 - val_loss: 0.0653 - val_accuracy: 0.9770\n",
      "Epoch 3/5\n",
      "60000/60000 [==============================] - 22s 362us/step - loss: 0.0650 - accuracy: 0.9804 - val_loss: 0.0504 - val_accuracy: 0.9829\n",
      "Epoch 4/5\n",
      "60000/60000 [==============================] - 24s 401us/step - loss: 0.0553 - accuracy: 0.9826 - val_loss: 0.0703 - val_accuracy: 0.9775\n",
      "Epoch 5/5\n",
      "60000/60000 [==============================] - 23s 380us/step - loss: 0.0495 - accuracy: 0.9852 - val_loss: 0.0725 - val_accuracy: 0.9772\n"
     ]
    },
    {
     "data": {
      "text/plain": [
       "<keras.callbacks.callbacks.History at 0x18a80bbf848>"
      ]
     },
     "execution_count": 5,
     "metadata": {},
     "output_type": "execute_result"
    }
   ],
   "source": [
    "from keras.layers import (Conv2D, BatchNormalization, Activation, Flatten)\n",
    "from keras import Sequential\n",
    "from keras.layers import Dense\n",
    "\n",
    "# Build a model with 14 output nodes\n",
    "model = Sequential()\n",
    "\n",
    "model.add( Conv2D(8, (3,3), padding='same', input_shape=(28,28,1)))\n",
    "model.add( BatchNormalization() )\n",
    "model.add( Activation('relu') )\n",
    "\n",
    "\n",
    "model.add( Conv2D(8, (3,3), strides=(2,2), padding='same') ) # -> 14,14,8\n",
    "model.add( BatchNormalization() )\n",
    "model.add( Activation('relu') )\n",
    "\n",
    "model.add( Conv2D(8, (3,3), strides=(2,2), padding='same')) # -> 7,7,8\n",
    "model.add( BatchNormalization() )\n",
    "model.add( Activation('relu') )\n",
    "\n",
    "model.add( Flatten() )\n",
    "\n",
    "model.add( Dense(10, activation='softmax') )\n",
    "model.compile(loss='categorical_crossentropy', optimizer='adam', metrics=['accuracy'])\n",
    "model.summary()\n",
    "\n",
    "model.fit(X_train.reshape((X_train.shape[0],28,28,1)), Y_train, batch_size=32, epochs=5, \n",
    "          validation_data=(X_test.reshape((X_test.shape[0],28,28,1)),Y_test))"
   ]
  }
 ],
 "metadata": {
  "kernelspec": {
   "display_name": "Python 3",
   "language": "python",
   "name": "python3"
  },
  "language_info": {
   "codemirror_mode": {
    "name": "ipython",
    "version": 3
   },
   "file_extension": ".py",
   "mimetype": "text/x-python",
   "name": "python",
   "nbconvert_exporter": "python",
   "pygments_lexer": "ipython3",
   "version": "3.7.4"
  }
 },
 "nbformat": 4,
 "nbformat_minor": 2
}
